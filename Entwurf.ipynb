{
 "cells": [
  {
   "cell_type": "code",
   "execution_count": 33,
   "metadata": {},
   "outputs": [],
   "source": [
    "import numpy as np\n",
    "import pandas as pd\n",
    "import math"
   ]
  },
  {
   "cell_type": "code",
   "execution_count": 3,
   "metadata": {},
   "outputs": [],
   "source": [
    "row_1 = [1, np.nan, 6, 9, np.nan, np.nan, 3, np.nan, np.nan]\n",
    "row_2 = [np.nan,np.nan,8,np.nan,np.nan,6,np.nan,5,4]\n",
    "row_3 = [np.nan,np.nan,np.nan,3,np.nan,8,np.nan,np.nan,np.nan]\n",
    "row_4 = [6,3,5,8,np.nan,np.nan,np.nan,np.nan,np.nan]\n",
    "row_5 = [np.nan,np.nan,np.nan,4,3,np.nan,np.nan,6,7]\n",
    "row_6 = [np.nan,np.nan,np.nan,np.nan,9,2,np.nan,np.nan,np.nan]\n",
    "row_7 = [np.nan,4,2,np.nan,6,np.nan,8,3,1]\n",
    "row_8 = [8, np.nan,np.nan,7,4,np.nan,2,np.nan,5]\n",
    "row_9 = [np.nan,5,3,2,np.nan,np.nan,4,np.nan,np.nan]"
   ]
  },
  {
   "cell_type": "code",
   "execution_count": 4,
   "metadata": {},
   "outputs": [],
   "source": [
    "row_total = [row_1,row_2,row_3,row_4,row_5,row_6,row_7,row_8,row_9]"
   ]
  },
  {
   "cell_type": "code",
   "execution_count": 17,
   "metadata": {},
   "outputs": [
    {
     "data": {
      "text/plain": [
       "[1, nan, 6, 9, nan, nan, 3, nan, nan]"
      ]
     },
     "execution_count": 17,
     "metadata": {},
     "output_type": "execute_result"
    }
   ],
   "source": [
    "row_total[0]"
   ]
  },
  {
   "cell_type": "code",
   "execution_count": 6,
   "metadata": {},
   "outputs": [],
   "source": [
    "sudoku = pd.DataFrame(row_total)"
   ]
  },
  {
   "cell_type": "code",
   "execution_count": 46,
   "metadata": {},
   "outputs": [],
   "source": [
    "def CheckUp_row(null):\n",
    "    checklist = []\n",
    "    checklist.append(row)\n",
    "    return checklist"
   ]
  },
  {
   "cell_type": "code",
   "execution_count": null,
   "metadata": {},
   "outputs": [],
   "source": [
    "def CheckUp_column(null):\n",
    "    "
   ]
  },
  {
   "cell_type": "code",
   "execution_count": 7,
   "metadata": {},
   "outputs": [
    {
     "data": {
      "text/html": [
       "<div>\n",
       "<style scoped>\n",
       "    .dataframe tbody tr th:only-of-type {\n",
       "        vertical-align: middle;\n",
       "    }\n",
       "\n",
       "    .dataframe tbody tr th {\n",
       "        vertical-align: top;\n",
       "    }\n",
       "\n",
       "    .dataframe thead th {\n",
       "        text-align: right;\n",
       "    }\n",
       "</style>\n",
       "<table border=\"1\" class=\"dataframe\">\n",
       "  <thead>\n",
       "    <tr style=\"text-align: right;\">\n",
       "      <th></th>\n",
       "      <th>0</th>\n",
       "      <th>1</th>\n",
       "      <th>2</th>\n",
       "      <th>3</th>\n",
       "      <th>4</th>\n",
       "      <th>5</th>\n",
       "      <th>6</th>\n",
       "      <th>7</th>\n",
       "      <th>8</th>\n",
       "    </tr>\n",
       "  </thead>\n",
       "  <tbody>\n",
       "    <tr>\n",
       "      <th>0</th>\n",
       "      <td>1.0</td>\n",
       "      <td>NaN</td>\n",
       "      <td>6.0</td>\n",
       "      <td>9.0</td>\n",
       "      <td>NaN</td>\n",
       "      <td>NaN</td>\n",
       "      <td>3.0</td>\n",
       "      <td>NaN</td>\n",
       "      <td>NaN</td>\n",
       "    </tr>\n",
       "    <tr>\n",
       "      <th>1</th>\n",
       "      <td>NaN</td>\n",
       "      <td>NaN</td>\n",
       "      <td>8.0</td>\n",
       "      <td>NaN</td>\n",
       "      <td>NaN</td>\n",
       "      <td>6.0</td>\n",
       "      <td>NaN</td>\n",
       "      <td>5.0</td>\n",
       "      <td>4.0</td>\n",
       "    </tr>\n",
       "    <tr>\n",
       "      <th>2</th>\n",
       "      <td>NaN</td>\n",
       "      <td>NaN</td>\n",
       "      <td>NaN</td>\n",
       "      <td>3.0</td>\n",
       "      <td>NaN</td>\n",
       "      <td>8.0</td>\n",
       "      <td>NaN</td>\n",
       "      <td>NaN</td>\n",
       "      <td>NaN</td>\n",
       "    </tr>\n",
       "    <tr>\n",
       "      <th>3</th>\n",
       "      <td>6.0</td>\n",
       "      <td>3.0</td>\n",
       "      <td>5.0</td>\n",
       "      <td>8.0</td>\n",
       "      <td>NaN</td>\n",
       "      <td>NaN</td>\n",
       "      <td>NaN</td>\n",
       "      <td>NaN</td>\n",
       "      <td>NaN</td>\n",
       "    </tr>\n",
       "    <tr>\n",
       "      <th>4</th>\n",
       "      <td>NaN</td>\n",
       "      <td>NaN</td>\n",
       "      <td>NaN</td>\n",
       "      <td>4.0</td>\n",
       "      <td>3.0</td>\n",
       "      <td>NaN</td>\n",
       "      <td>NaN</td>\n",
       "      <td>6.0</td>\n",
       "      <td>7.0</td>\n",
       "    </tr>\n",
       "    <tr>\n",
       "      <th>5</th>\n",
       "      <td>NaN</td>\n",
       "      <td>NaN</td>\n",
       "      <td>NaN</td>\n",
       "      <td>NaN</td>\n",
       "      <td>9.0</td>\n",
       "      <td>2.0</td>\n",
       "      <td>NaN</td>\n",
       "      <td>NaN</td>\n",
       "      <td>NaN</td>\n",
       "    </tr>\n",
       "    <tr>\n",
       "      <th>6</th>\n",
       "      <td>NaN</td>\n",
       "      <td>4.0</td>\n",
       "      <td>2.0</td>\n",
       "      <td>NaN</td>\n",
       "      <td>6.0</td>\n",
       "      <td>NaN</td>\n",
       "      <td>8.0</td>\n",
       "      <td>3.0</td>\n",
       "      <td>1.0</td>\n",
       "    </tr>\n",
       "    <tr>\n",
       "      <th>7</th>\n",
       "      <td>8.0</td>\n",
       "      <td>NaN</td>\n",
       "      <td>NaN</td>\n",
       "      <td>7.0</td>\n",
       "      <td>4.0</td>\n",
       "      <td>NaN</td>\n",
       "      <td>2.0</td>\n",
       "      <td>NaN</td>\n",
       "      <td>5.0</td>\n",
       "    </tr>\n",
       "    <tr>\n",
       "      <th>8</th>\n",
       "      <td>NaN</td>\n",
       "      <td>5.0</td>\n",
       "      <td>3.0</td>\n",
       "      <td>2.0</td>\n",
       "      <td>NaN</td>\n",
       "      <td>NaN</td>\n",
       "      <td>4.0</td>\n",
       "      <td>NaN</td>\n",
       "      <td>NaN</td>\n",
       "    </tr>\n",
       "  </tbody>\n",
       "</table>\n",
       "</div>"
      ],
      "text/plain": [
       "     0    1    2    3    4    5    6    7    8\n",
       "0  1.0  NaN  6.0  9.0  NaN  NaN  3.0  NaN  NaN\n",
       "1  NaN  NaN  8.0  NaN  NaN  6.0  NaN  5.0  4.0\n",
       "2  NaN  NaN  NaN  3.0  NaN  8.0  NaN  NaN  NaN\n",
       "3  6.0  3.0  5.0  8.0  NaN  NaN  NaN  NaN  NaN\n",
       "4  NaN  NaN  NaN  4.0  3.0  NaN  NaN  6.0  7.0\n",
       "5  NaN  NaN  NaN  NaN  9.0  2.0  NaN  NaN  NaN\n",
       "6  NaN  4.0  2.0  NaN  6.0  NaN  8.0  3.0  1.0\n",
       "7  8.0  NaN  NaN  7.0  4.0  NaN  2.0  NaN  5.0\n",
       "8  NaN  5.0  3.0  2.0  NaN  NaN  4.0  NaN  NaN"
      ]
     },
     "execution_count": 7,
     "metadata": {},
     "output_type": "execute_result"
    }
   ],
   "source": [
    "sudoku"
   ]
  },
  {
   "cell_type": "code",
   "execution_count": 52,
   "metadata": {},
   "outputs": [
    {
     "name": "stdout",
     "output_type": "stream",
     "text": [
      "0\n",
      "[[1, nan, 6, 9, nan, nan, 3, nan, nan]]\n",
      "0\n",
      "0\n",
      "[[1, nan, 6, 9, nan, nan, 3, nan, nan]]\n",
      "[[1, nan, 6, 9, nan, nan, 3, nan, nan]]\n",
      "0\n",
      "[[1, nan, 6, 9, nan, nan, 3, nan, nan]]\n",
      "[[1, nan, 6, 9, nan, nan, 3, nan, nan]]\n",
      "[[nan, nan, 8, nan, nan, 6, nan, 5, 4]]\n",
      "[[nan, nan, 8, nan, nan, 6, nan, 5, 4]]\n",
      "0\n",
      "[[nan, nan, 8, nan, nan, 6, nan, 5, 4]]\n",
      "[[nan, nan, 8, nan, nan, 6, nan, 5, 4]]\n",
      "0\n",
      "[[nan, nan, 8, nan, nan, 6, nan, 5, 4]]\n",
      "0\n",
      "0\n",
      "[[nan, nan, nan, 3, nan, 8, nan, nan, nan]]\n",
      "[[nan, nan, nan, 3, nan, 8, nan, nan, nan]]\n",
      "[[nan, nan, nan, 3, nan, 8, nan, nan, nan]]\n",
      "0\n",
      "[[nan, nan, nan, 3, nan, 8, nan, nan, nan]]\n",
      "0\n",
      "[[nan, nan, nan, 3, nan, 8, nan, nan, nan]]\n",
      "[[nan, nan, nan, 3, nan, 8, nan, nan, nan]]\n",
      "[[nan, nan, nan, 3, nan, 8, nan, nan, nan]]\n",
      "0\n",
      "0\n",
      "0\n",
      "0\n",
      "[[6, 3, 5, 8, nan, nan, nan, nan, nan]]\n",
      "[[6, 3, 5, 8, nan, nan, nan, nan, nan]]\n",
      "[[6, 3, 5, 8, nan, nan, nan, nan, nan]]\n",
      "[[6, 3, 5, 8, nan, nan, nan, nan, nan]]\n",
      "[[6, 3, 5, 8, nan, nan, nan, nan, nan]]\n",
      "[[nan, nan, nan, 4, 3, nan, nan, 6, 7]]\n",
      "[[nan, nan, nan, 4, 3, nan, nan, 6, 7]]\n",
      "[[nan, nan, nan, 4, 3, nan, nan, 6, 7]]\n",
      "0\n",
      "0\n",
      "[[nan, nan, nan, 4, 3, nan, nan, 6, 7]]\n",
      "[[nan, nan, nan, 4, 3, nan, nan, 6, 7]]\n",
      "0\n",
      "0\n",
      "[[nan, nan, nan, nan, 9, 2, nan, nan, nan]]\n",
      "[[nan, nan, nan, nan, 9, 2, nan, nan, nan]]\n",
      "[[nan, nan, nan, nan, 9, 2, nan, nan, nan]]\n",
      "[[nan, nan, nan, nan, 9, 2, nan, nan, nan]]\n",
      "0\n",
      "0\n",
      "[[nan, nan, nan, nan, 9, 2, nan, nan, nan]]\n",
      "[[nan, nan, nan, nan, 9, 2, nan, nan, nan]]\n",
      "[[nan, nan, nan, nan, 9, 2, nan, nan, nan]]\n",
      "[[nan, 4, 2, nan, 6, nan, 8, 3, 1]]\n",
      "0\n",
      "0\n",
      "[[nan, 4, 2, nan, 6, nan, 8, 3, 1]]\n",
      "0\n",
      "[[nan, 4, 2, nan, 6, nan, 8, 3, 1]]\n",
      "0\n",
      "0\n",
      "0\n",
      "0\n",
      "[[8, nan, nan, 7, 4, nan, 2, nan, 5]]\n",
      "[[8, nan, nan, 7, 4, nan, 2, nan, 5]]\n",
      "0\n",
      "0\n",
      "[[8, nan, nan, 7, 4, nan, 2, nan, 5]]\n",
      "0\n",
      "[[8, nan, nan, 7, 4, nan, 2, nan, 5]]\n",
      "0\n",
      "[[nan, 5, 3, 2, nan, nan, 4, nan, nan]]\n",
      "0\n",
      "0\n",
      "0\n",
      "[[nan, 5, 3, 2, nan, nan, 4, nan, nan]]\n",
      "[[nan, 5, 3, 2, nan, nan, 4, nan, nan]]\n",
      "0\n",
      "[[nan, 5, 3, 2, nan, nan, 4, nan, nan]]\n",
      "[[nan, 5, 3, 2, nan, nan, 4, nan, nan]]\n"
     ]
    }
   ],
   "source": [
    "row_index = -1\n",
    "column_index = -1\n",
    "for row in row_total:\n",
    "    row_index += 1\n",
    "    for value in row:\n",
    "        column_index += 1\n",
    "        if math.isnan(value):\n",
    "            CheckUp(value)\n",
    "        else:\n",
    "            print(row_index)\n",
    "        if column_index == 8:\n",
    "            row_index = -1\n",
    "            column_index = -1"
   ]
  },
  {
   "cell_type": "code",
   "execution_count": 40,
   "metadata": {},
   "outputs": [
    {
     "ename": "NameError",
     "evalue": "name 'checklist' is not defined",
     "output_type": "error",
     "traceback": [
      "\u001b[1;31m---------------------------------------------------------------------------\u001b[0m",
      "\u001b[1;31mNameError\u001b[0m                                 Traceback (most recent call last)",
      "\u001b[1;32m<ipython-input-40-9603b90be768>\u001b[0m in \u001b[0;36m<module>\u001b[1;34m()\u001b[0m\n\u001b[1;32m----> 1\u001b[1;33m \u001b[0mchecklist\u001b[0m\u001b[1;33m\u001b[0m\u001b[0m\n\u001b[0m",
      "\u001b[1;31mNameError\u001b[0m: name 'checklist' is not defined"
     ]
    }
   ],
   "source": [
    "checklist"
   ]
  },
  {
   "cell_type": "code",
   "execution_count": null,
   "metadata": {},
   "outputs": [],
   "source": []
  }
 ],
 "metadata": {
  "kernelspec": {
   "display_name": "Python 3",
   "language": "python",
   "name": "python3"
  },
  "language_info": {
   "codemirror_mode": {
    "name": "ipython",
    "version": 3
   },
   "file_extension": ".py",
   "mimetype": "text/x-python",
   "name": "python",
   "nbconvert_exporter": "python",
   "pygments_lexer": "ipython3",
   "version": "3.7.0"
  }
 },
 "nbformat": 4,
 "nbformat_minor": 2
}
